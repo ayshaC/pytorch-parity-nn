{
 "cells": [
  {
   "cell_type": "markdown",
   "metadata": {},
   "source": [
    "# Classifying Even and Odd Numbers with a Convolutional Neural Network\n",
    "\n",
    "\n",
    "This is a convolutional neural network built in PyTorch that recognizes whether an integer in a sequence is odd or even. \n",
    "\n",
    "** The problem: ** \n",
    "\n",
    "Assume that we have a sequence of $n$ integers between 0 and 99 (inclusive) such that no two consecutive numbers are odd. The goal is to create a NN using convolutions such that for each sequence it predicts if the parity of the numbers. For example:\n",
    "\n",
    "[10,11,12,2] $\\to$ [Even,Odd,Even, Even]\n",
    "\n",
    "Here is a simple function that does this in a \"classical way\" (No need of NN, or any machine learning). [1,0] means even, [0,1] means odd"
   ]
  },
  {
   "cell_type": "code",
   "execution_count": 2,
   "metadata": {},
   "outputs": [
    {
     "data": {
      "text/plain": [
       "[[1, 0], [0, 1], [1, 0], [1, 0]]"
      ]
     },
     "execution_count": 2,
     "metadata": {},
     "output_type": "execute_result"
    }
   ],
   "source": [
    "def find_parity(seq):\n",
    "    for number in seq:\n",
    "        if number % 2 == 0:\n",
    "            yield [1,0]\n",
    "        else:\n",
    "            yield [0,1]\n",
    "            \n",
    "list(find_parity([10,11,12,2]))"
   ]
  },
  {
   "cell_type": "markdown",
   "metadata": {},
   "source": [
    "But to PyTorch, we will make a convolutional neural network that does the same thing. "
   ]
  },
  {
   "cell_type": "markdown",
   "metadata": {},
   "source": [
    "## Part 1 - Creating the data\n",
    "\n",
    "The goal for this section is to create a class designed to generate our data. "
   ]
  },
  {
   "cell_type": "code",
   "execution_count": 3,
   "metadata": {},
   "outputs": [],
   "source": [
    "import numpy as np\n",
    "import torch\n",
    "from torch.autograd import Variable\n",
    "from torch.nn.functional import tanh, softmax"
   ]
  },
  {
   "cell_type": "code",
   "execution_count": 4,
   "metadata": {
    "code_folding": []
   },
   "outputs": [],
   "source": [
    "class DataGenerator(object):\n",
    "    \"\"\"Generates sequences of integers following the rules\n",
    "    \n",
    "    Attributes:\n",
    "        nb_samples: Number of samples to generate.\n",
    "        sq_length: The length of each sample/sequence.\n",
    "        split: Percentages of data to be split into training, validation, and testing.\n",
    "        train_X: training features\n",
    "        train_Y: training labels\n",
    "        val_X: validation features\n",
    "        val_Y: validation labels\n",
    "        test_X: testing features\n",
    "        test_Y: testing labels\n",
    "    \"\"\"   \n",
    "    \n",
    "    def __init__(self, size = 1000, sequence_length = 10 ): \n",
    "        self.nb_samples = size\n",
    "        self.sq_length = sequence_length\n",
    "        self.split = [50.0,25.0,25.0]\n",
    "        self.__build_data()\n",
    "        \n",
    "    def __build_data(self):\n",
    "        x_data = []\n",
    "        y_data = []\n",
    "        \n",
    "#       generating data - sequences of integers between 0 and 99 where there are no two consecutive odd numbers\n",
    "        for i in range(self.nb_samples):\n",
    "            sequence = []\n",
    "            for j in range(self.sq_length):\n",
    "                if (j != 0) and (sequence[j-1]%2):\n",
    "                    temp = np.random.randint(0,100)\n",
    "                    while temp%2:\n",
    "                        temp = np.random.randint(0,100)\n",
    "                    sequence.append(temp)\n",
    "                else:\n",
    "                    sequence.append(np.random.randint(0,100))\n",
    "            x_data.append(sequence)\n",
    "            y_data.append(list(find_parity(sequence)))\n",
    "                \n",
    "        \n",
    "        a = int(self.nb_samples*(self.split[0]/100.0))\n",
    "        b = int(self.nb_samples*(self.split[1]/100.0))\n",
    "        \n",
    "        self.train_X = Variable(torch.from_numpy(np.array(x_data[:a])), requires_grad = False)\n",
    "        self.train_Y = Variable(torch.from_numpy(np.array(y_data[:a])), requires_grad = False).double()\n",
    "        \n",
    "        self.val_X = Variable(torch.from_numpy(np.array(x_data[a:a+b])), requires_grad = False)\n",
    "        self.val_Y = Variable(torch.from_numpy(np.array(y_data[a:a+b])), requires_grad = False).double()\n",
    "        \n",
    "        self.test_X = Variable(torch.from_numpy(np.array(x_data[a+b:])), requires_grad = False)\n",
    "        self.test_Y = Variable(torch.from_numpy(np.array(y_data[a+b:])), requires_grad = False).double()\n",
    "        "
   ]
  },
  {
   "cell_type": "code",
   "execution_count": 5,
   "metadata": {},
   "outputs": [],
   "source": [
    "dataGenerator = DataGenerator(1000, 10)"
   ]
  },
  {
   "cell_type": "markdown",
   "metadata": {},
   "source": [
    "## Part 2 - Building the model"
   ]
  },
  {
   "cell_type": "markdown",
   "metadata": {},
   "source": [
    "Now that we have our data, we can build the model. We go with the following architecture:\n",
    "\n",
    "Embedding layer **-->** convolution layer **-->** activation function **-->** fully connected layer. "
   ]
  },
  {
   "cell_type": "code",
   "execution_count": 6,
   "metadata": {},
   "outputs": [],
   "source": [
    "class Net(torch.nn.Module):\n",
    "    \n",
    "    def __init__(self, num_conv=1):\n",
    "        super(Net, self).__init__()\n",
    "        self.num_conv = num_conv\n",
    "        \n",
    "#       embedding layer - 100 embeddings because the integers are between 0 and 99 (inclusive)\n",
    "        self.emb = torch.nn.Embedding(100,1)\n",
    "    \n",
    "#       convolution layer - kernel size of 3  \n",
    "        self.conv = torch.nn.Conv1d(1, self.num_conv, 3, bias = False)\n",
    "    \n",
    "#       fully connected layer needs to have output size 2 (to compare with [1,0] or [0,1])\n",
    "        self.fully_connected = torch.nn.Linear(num_conv,2)\n",
    "        \n",
    "    def forward(self,x):\n",
    "#       needs to end with size 50x10x2\n",
    "        x = self.emb(x)\n",
    "        x = x.transpose(2,1)\n",
    "        \n",
    "#       add padding so that first and last few integers are still considered\n",
    "        x = torch.nn.ConstantPad1d(1,0.)(x)\n",
    "        x = self.conv(x)\n",
    "        x = tanh(x)\n",
    "        x = x.transpose(2,1)\n",
    "        x = self.fully_connected(x)\n",
    "        return softmax(x, dim=1)\n",
    "        "
   ]
  },
  {
   "cell_type": "code",
   "execution_count": 7,
   "metadata": {},
   "outputs": [],
   "source": [
    "net = Net(20).double()"
   ]
  },
  {
   "cell_type": "markdown",
   "metadata": {},
   "source": [
    "In the next step we create an optimizer"
   ]
  },
  {
   "cell_type": "code",
   "execution_count": 8,
   "metadata": {},
   "outputs": [],
   "source": [
    "optimizer = torch.optim.Adam(net.parameters())"
   ]
  },
  {
   "cell_type": "markdown",
   "metadata": {},
   "source": [
    "## Part 3 - Training the model"
   ]
  },
  {
   "cell_type": "markdown",
   "metadata": {},
   "source": [
    "We define some parameters for the training."
   ]
  },
  {
   "cell_type": "code",
   "execution_count": 9,
   "metadata": {},
   "outputs": [],
   "source": [
    "counter = 0\n",
    "losses = []\n",
    "val_losses = []\n",
    "epochs = 2000\n",
    "embeddings = np.zeros([200,100])"
   ]
  },
  {
   "cell_type": "markdown",
   "metadata": {},
   "source": [
    "We now go over the training phase"
   ]
  },
  {
   "cell_type": "code",
   "execution_count": 10,
   "metadata": {},
   "outputs": [
    {
     "name": "stdout",
     "output_type": "stream",
     "text": [
      "Epoch 2000 of 2000. Current step is 2000 with loss 0.32 \r"
     ]
    }
   ],
   "source": [
    "X = dataGenerator.train_X\n",
    "y = dataGenerator.train_Y\n",
    "X_val = dataGenerator.val_X\n",
    "y_val = dataGenerator.val_Y\n",
    "\n",
    "for i in range(epochs):\n",
    "    \n",
    "    if i%10==0:\n",
    "        embeddings[i//10,:] = net.state_dict()['emb.weight'].numpy().T[0]\n",
    "    counter+=1\n",
    "        \n",
    "    y_pred=net(X)\n",
    "\n",
    "    optimizer.zero_grad()\n",
    "    loss = ((y_pred - y)**2).mean()\n",
    "    loss.backward()\n",
    "    optimizer.step()\n",
    "\n",
    "    losses.append(loss.data.numpy())\n",
    "    \n",
    "    y_pred_val = net(X_val)\n",
    "    val_loss = ((y_pred_val- y_val)**2).mean()\n",
    "    val_losses.append(val_loss)\n",
    "    \n",
    "    print(\"Epoch %d of %d. Current step is %d with loss %.2f \"%(i+1,epochs,counter,loss.data.numpy()), end=\"\\r\")"
   ]
  },
  {
   "cell_type": "markdown",
   "metadata": {},
   "source": [
    "We plot the training loss and validation loss."
   ]
  },
  {
   "cell_type": "code",
   "execution_count": 12,
   "metadata": {},
   "outputs": [
    {
     "data": {
      "image/png": "[encoded data removed]",
      "text/plain": [
       "<Figure size 576x576 with 1 Axes>"
      ]
     },
     "metadata": {},
     "output_type": "display_data"
    }
   ],
   "source": [
    "import matplotlib.pyplot as plt\n",
    "plt.figure(figsize=(8,8))\n",
    "plt.plot(losses)\n",
    "plt.plot(val_losses)\n",
    "plt.show()"
   ]
  },
  {
   "cell_type": "markdown",
   "metadata": {},
   "source": [
    "Our first goal is to understand the embeddings, so let's trace what happens with the embedding values of the first 10 integers."
   ]
  },
  {
   "cell_type": "code",
   "execution_count": 13,
   "metadata": {},
   "outputs": [
    {
     "data": {
      "image/png": "[encoded data removed]",
      "text/plain": [
       "<Figure size 1080x360 with 1 Axes>"
      ]
     },
     "metadata": {},
     "output_type": "display_data"
    }
   ],
   "source": [
    "plt.figure(figsize=(15,5))\n",
    "for i in range(10):\n",
    "    plt.plot(embeddings[:,i],label = \"%d\"%i)\n",
    "plt.legend()\n",
    "plt.show()"
   ]
  },
  {
   "cell_type": "markdown",
   "metadata": {},
   "source": [
    "So, it seems that all even numbers took larger values than all the odd numbers. "
   ]
  },
  {
   "cell_type": "markdown",
   "metadata": {},
   "source": [
    "Next, we proceed to analyze the convolutions. We can see a pattern where odd numbers output something closer to [0,1], whereas even numbers are closer to [1,0]."
   ]
  },
  {
   "cell_type": "code",
   "execution_count": 14,
   "metadata": {},
   "outputs": [
    {
     "name": "stdout",
     "output_type": "stream",
     "text": [
      "tensor([[  1,  84,  13,  ...,  25,  56,  16],\n",
      "        [ 25,  34,  75,  ...,  21,  46,  29],\n",
      "        [ 77,  96,  78,  ...,  68,  46,  76],\n",
      "        ...,\n",
      "        [ 31,  42,  82,  ...,  77,  16,  93],\n",
      "        [ 57,  84,  55,  ...,  96,   0,   4],\n",
      "        [ 27,  56,  62,  ...,  25,  14,  29]])\n"
     ]
    },
    {
     "data": {
      "text/plain": [
       "tensor([[[ 2.7885e-04,  2.4576e-01],\n",
       "         [ 1.9178e-01,  9.0585e-06],\n",
       "         [ 2.5394e-04,  2.4947e-01],\n",
       "         ...,\n",
       "         [ 2.6011e-04,  2.5597e-01],\n",
       "         [ 1.9348e-01,  9.9193e-06],\n",
       "         [ 8.1032e-02,  1.7725e-04]],\n",
       "\n",
       "        [[ 2.8334e-04,  2.5099e-01],\n",
       "         [ 2.1351e-01,  9.4234e-06],\n",
       "         [ 3.2977e-04,  1.9569e-01],\n",
       "         ...,\n",
       "         [ 2.8439e-04,  2.3183e-01],\n",
       "         [ 2.0695e-01,  8.3121e-06],\n",
       "         [ 6.9799e-04,  8.2566e-02]],\n",
       "\n",
       "        [[ 1.7916e-04,  5.0051e-01],\n",
       "         [ 1.1699e-01,  2.0293e-05],\n",
       "         [ 1.4838e-01,  2.4362e-04],\n",
       "         ...,\n",
       "         [ 1.2218e-01,  2.2375e-05],\n",
       "         [ 1.2746e-01,  1.2716e-04],\n",
       "         [ 1.1851e-01,  4.7217e-05]],\n",
       "\n",
       "        ...,\n",
       "\n",
       "        [[ 1.9469e-04,  3.5664e-01],\n",
       "         [ 1.4094e-01,  1.2166e-05],\n",
       "         [ 1.5370e-01,  2.3558e-04],\n",
       "         ...,\n",
       "         [ 2.1979e-04,  3.0711e-01],\n",
       "         [ 1.2641e-01,  1.5257e-05],\n",
       "         [ 2.1551e-04,  3.3554e-01]],\n",
       "\n",
       "        [[ 2.9643e-04,  3.0662e-01],\n",
       "         [ 1.9739e-01,  1.1783e-05],\n",
       "         [ 2.6218e-04,  3.4565e-01],\n",
       "         ...,\n",
       "         [ 1.8209e-01,  1.1955e-05],\n",
       "         [ 5.0626e-02,  2.0994e-03],\n",
       "         [ 1.8562e-01,  1.1271e-05]],\n",
       "\n",
       "        [[ 2.6952e-04,  3.0244e-01],\n",
       "         [ 2.1062e-01,  1.7331e-05],\n",
       "         [ 2.0088e-01,  1.2857e-05],\n",
       "         ...,\n",
       "         [ 2.7529e-04,  2.8037e-01],\n",
       "         [ 1.8505e-01,  1.0946e-05],\n",
       "         [ 8.0888e-04,  6.3605e-02]]], dtype=torch.float64)"
      ]
     },
     "execution_count": 14,
     "metadata": {},
     "output_type": "execute_result"
    }
   ],
   "source": [
    "test = Variable(torch.from_numpy(np.random.randint(0,100, size = (3,10))), requires_grad = False)\n",
    "print(dataGenerator.test_X)\n",
    "net(dataGenerator.test_X)"
   ]
  },
  {
   "cell_type": "markdown",
   "metadata": {},
   "source": [
    "That's it! Credits to Felipe Perez for coming up with the problem."
   ]
  }
 ],
 "metadata": {
  "kernelspec": {
   "display_name": "Python 3",
   "language": "python",
   "name": "python3"
  },
  "language_info": {
   "codemirror_mode": {
    "name": "ipython",
    "version": 3
   },
   "file_extension": ".py",
   "mimetype": "text/x-python",
   "name": "python",
   "nbconvert_exporter": "python",
   "pygments_lexer": "ipython3",
   "version": "3.6.4"
  }
 },
 "nbformat": 4,
 "nbformat_minor": 2
}
